{
 "cells": [
  {
   "cell_type": "markdown",
   "metadata": {},
   "source": [
    "# Experimenting with Lists and NumPy\n",
    "In this section, we'll do some **very basic** experimenting with numpy.\n",
    "numpy stands for \"numerical python\".  We'll learn about:\n",
    "- Creating Numpy Arrays\n",
    "- Random distributions in Numpy\n",
    "- Python topics: random distributions, list comprehensions, and types\n",
    "\n",
    "### 1 --> Edit this cell to make the three things you are learning about into a \"bullet list\".  Web search for a  \"markdown cheat sheet\" to see how to do that.\n",
    "\n",
    "### 2 --> Below this cell, add a new cell to ```import numpy as np```\n"
   ]
  },
  {
   "cell_type": "code",
   "execution_count": 1,
   "metadata": {
    "pycharm": {
     "is_executing": false
    }
   },
   "outputs": [],
   "source": [
    "import numpy as np"
   ]
  },
  {
   "cell_type": "markdown",
   "metadata": {},
   "source": [
    "---\n",
    "We will now use python to create a list type variable and then use it to explore list comprehensions a bit.  List comprehensions are going to be invaluable for us for managing and working with data.\n",
    "\n",
    "#### 3 --> Add a new cell below this one to build a list comprehension\n",
    "* creates a range from 0 to 9.\n",
    "* converts that range to a list using the list() type cast function\n",
    "* assigns that to variable `counts`\n",
    "\n",
    "I'm going to usually provide the answer, embedded as an HTML comment, that is invisible when you run the cell. It's okay to look at the answer and type it.  Don't get stuck - if you have no clue, go ahead and peek!\n",
    "\n",
    "**Double click here**\n",
    "\n",
    "<!--\n",
    "counts = list(range(10))\n",
    "counts\n",
    "-->"
   ]
  },
  {
   "cell_type": "code",
   "execution_count": 6,
   "metadata": {
    "pycharm": {
     "is_executing": false
    }
   },
   "outputs": [
    {
     "data": {
      "text/plain": [
       "[0, 1, 2, 3, 4, 5, 6, 7, 8, 9]"
      ]
     },
     "execution_count": 6,
     "metadata": {},
     "output_type": "execute_result"
    }
   ],
   "source": [
    "counts = list(range(10))\n",
    "counts"
   ]
  },
  {
   "cell_type": "markdown",
   "metadata": {},
   "source": [
    "#### 4 --> Use a list comprehension\n",
    "\n",
    "Let's make a new variable `doubledcounts` that is a list of all of the values in the counts list, but doubled.\n",
    "\n",
    "The syntax looks like:\n",
    "\n",
    "> mynewvariable = `[`   *expression with iteratorvariable* `for` *iteratorvariable* `in` *list-like-thing* `]`\n",
    "\n",
    "**Double click to see answer**\n",
    "<!--\n",
    "doubledcounts = [  2 * x    for    x    in   counts  ]\n",
    "# and then to display the doubledcounts variable on the interactive console:\n",
    "doubledcounts\n",
    "-->"
   ]
  },
  {
   "cell_type": "code",
   "execution_count": 10,
   "metadata": {
    "pycharm": {
     "is_executing": false
    }
   },
   "outputs": [
    {
     "data": {
      "text/plain": [
       "[0, 2, 4, 6, 8, 10, 12, 14, 16, 18]"
      ]
     },
     "execution_count": 10,
     "metadata": {},
     "output_type": "execute_result"
    }
   ],
   "source": [
    "doubledcounts = [number*2 for number in counts]\n",
    "doubledcounts"
   ]
  },
  {
   "cell_type": "markdown",
   "metadata": {},
   "source": [
    "#### 5 --> Conditional \"if\" expressions\n",
    "\n",
    "Syntax for a conditional expression is in the code below.  \n",
    "\n",
    "> `( True if x >= 1000 else False )`\n",
    "\n",
    "Note that the values True and False could be any value or any other expression:\n",
    "\n",
    "> `( x**2 if x >= 1000 else x )`\n",
    "\n",
    "> `( \"Whoa even\" if x % 2 == 0 else \"odd.\")`\n",
    "\n",
    "Explore it.  Try running the cell several times by clicking on the cell and then clicking the *run* button.\n",
    "    "
   ]
  },
  {
   "cell_type": "code",
   "execution_count": 34,
   "metadata": {
    "pycharm": {
     "is_executing": false
    }
   },
   "outputs": [
    {
     "name": "stdout",
     "output_type": "stream",
     "text": [
      "It's not THAT big.\n"
     ]
    }
   ],
   "source": [
    "#evaluating the list, needs else statement\n",
    "\n",
    "import random\n",
    "x = random.randint(0, 2000)\n",
    "isBigNum =  ( True if x >= 1000 else False )\n",
    "if isBigNum:\n",
    "    print(\"Whoa its big!\")\n",
    "else:\n",
    "    print(\"It's not THAT big.\")"
   ]
  },
  {
   "cell_type": "markdown",
   "metadata": {},
   "source": [
    "#### 6 --> Conditional \"if expressions\" in list comprehensions\n",
    "\n",
    "Now use a **conditional** expression in a list comprehension make a \n",
    "list of **boolean flags** - a vector of True / False values - to indicate which numbers are evenly divisible by 3 in the original counts.\n",
    "\n",
    "Use the mod operator % in python to test for divisibility by 3.\n",
    "\n",
    "Your result should look like this:\n",
    "\n",
    "`[True, False, False, True, False, False, True, False, False, True]`\n",
    "\n",
    "**Double Click for answer**\n",
    "<!--\n",
    "[ (True if x % 3 == 0 else False) for x in counts ]\n",
    "-->"
   ]
  },
  {
   "cell_type": "code",
   "execution_count": 33,
   "metadata": {
    "pycharm": {
     "is_executing": false
    }
   },
   "outputs": [
    {
     "data": {
      "text/plain": [
       "[True, False, False, True, False, False, True, False, False, True]"
      ]
     },
     "execution_count": 33,
     "metadata": {},
     "output_type": "execute_result"
    }
   ],
   "source": [
    "#creating a list, can just use if without else \n",
    "\n",
    "boolin = [(True if number%3 == 0 else False) for number in counts]\n",
    "boolin"
   ]
  },
  {
   "cell_type": "markdown",
   "metadata": {},
   "source": [
    "What python types are there?  What is the type of `True` ?"
   ]
  },
  {
   "cell_type": "code",
   "execution_count": 26,
   "metadata": {
    "pycharm": {
     "is_executing": false
    }
   },
   "outputs": [
    {
     "data": {
      "text/plain": [
       "bool"
      ]
     },
     "execution_count": 26,
     "metadata": {},
     "output_type": "execute_result"
    }
   ],
   "source": [
    "type(True)"
   ]
  },
  {
   "cell_type": "markdown",
   "metadata": {},
   "source": [
    "### List comprehension filters\n",
    "\n",
    "You can also use a list comprehension to filter values, by putting a conditional if expression after the loop part.\n",
    "\n",
    "> mynewvariable = `[` *expression with iter_variable* for *iter_variable* in *list-like-thing*  if something `]`\n",
    "\n",
    "Here's an example to get a list of perfect squares:\n",
    "\n",
    "```\n",
    "import math\n",
    "[ x for x in range(0,100)  if math.sqrt(x) - int(math.sqrt(x)) < 0.01 ]\n",
    "```\n",
    "#### 7 --> Use a conditional list comprehension to get a new list of all numbers in the counts list that evenly divisible by 3. \n",
    "\n",
    "**Double click for answer**\n",
    "<!--\n",
    "[ x for x in counts if x % 3 == 0]\n",
    "-->\n"
   ]
  },
  {
   "cell_type": "code",
   "execution_count": 32,
   "metadata": {
    "pycharm": {
     "is_executing": false
    }
   },
   "outputs": [
    {
     "data": {
      "text/plain": [
       "[0, 3, 6, 9]"
      ]
     },
     "execution_count": 32,
     "metadata": {},
     "output_type": "execute_result"
    }
   ],
   "source": [
    "comprehensive = [x for x in counts if x%3 == 0]\n",
    "comprehensive"
   ]
  },
  {
   "cell_type": "markdown",
   "metadata": {},
   "source": [
    "---\n",
    "# Now for Numpy\n",
    "\n",
    "Be sure and click the save button.\n",
    "\n",
    "Now let's NumPy.\n",
    "\n",
    "Remember we imported numpy as np, which is sort of the standard shortcut name used for numpy.\n",
    "\n",
    "Whereas in Python lists, you can have a list of anythings - even mixed type of things, in NumPy, there is no \"list\" per se.  NumPy lets you define and use an **array**.  And an **array has things all the same type**.\n",
    "\n",
    "Lists are heterogeneous.\n",
    "Arrays are homogeneous (in most languages).  (Including NumPy Python.)\n",
    "\n",
    "#### 8 --> Use the np.zeros function in the numpy package to get an array of ten zeros.  \n",
    "\n",
    "You don't need to assign it to a value.\n",
    "\n",
    "**Double click here for answer**\n",
    "<!--\n",
    "np.zeros(10)\n",
    "-->"
   ]
  },
  {
   "cell_type": "code",
   "execution_count": 41,
   "metadata": {
    "pycharm": {
     "is_executing": false
    }
   },
   "outputs": [
    {
     "data": {
      "text/plain": [
       "array([0., 0., 0., 0., 0., 0., 0., 0., 0., 0.])"
      ]
     },
     "execution_count": 41,
     "metadata": {},
     "output_type": "execute_result"
    }
   ],
   "source": [
    "np.zeros(10)"
   ]
  },
  {
   "cell_type": "markdown",
   "metadata": {},
   "source": [
    "By default, NumPy makes arrays of floats.  You can also have int and bool.\n",
    "\n",
    "#### 9 --> Try adding a *named parameter* `dtype='int'` to get a 1d array of ten ints.\n",
    "\n",
    "Note how it will look a little different.  No decimal place.\n",
    "\n",
    "**Double click here for answer**\n",
    "<!--\n",
    "np.zeros(10, dtype=\"int\")\n",
    "-->"
   ]
  },
  {
   "cell_type": "code",
   "execution_count": 51,
   "metadata": {
    "pycharm": {
     "is_executing": false
    }
   },
   "outputs": [
    {
     "data": {
      "text/plain": [
       "array([0, 0, 0, 0, 0, 0, 0, 0, 0, 0])"
      ]
     },
     "execution_count": 51,
     "metadata": {},
     "output_type": "execute_result"
    }
   ],
   "source": [
    "np.zeros(10, dtype = 'int')"
   ]
  },
  {
   "cell_type": "markdown",
   "metadata": {},
   "source": [
    "#### 10 --> use (3,3)  - a tuple - to make a 3 by 4 array of ones. \n",
    "\n",
    "The first parameter ( can be just a number in your case 10)  for a size of a single dimension array.  But you can also put in a tuple for a shape.  The tuple defines the number of rows and columns.\n",
    "\n",
    "The reason why NumPy us used so heavily in Machine Learning and data science is that the operations on homogeneous arrays of numbers can be made very fast.\n",
    "\n",
    "Use ones, instead of zeros.\n",
    "\n",
    "**Double click here for answer**\n",
    "<!--\n",
    "np.ones( (3,4), dtype='int')\n",
    "-->"
   ]
  },
  {
   "cell_type": "code",
   "execution_count": 55,
   "metadata": {
    "pycharm": {
     "is_executing": false
    }
   },
   "outputs": [
    {
     "data": {
      "text/plain": [
       "array([[1, 1, 1, 1],\n",
       "       [1, 1, 1, 1],\n",
       "       [1, 1, 1, 1]])"
      ]
     },
     "execution_count": 55,
     "metadata": {},
     "output_type": "execute_result"
    }
   ],
   "source": [
    "np.ones((3,4), dtype = 'int')"
   ]
  },
  {
   "cell_type": "markdown",
   "metadata": {},
   "source": [
    "#### 11 -->  Make a three dimensional 2,3,4 array of booleans with zeros function.\n",
    "\n",
    "\n",
    "How do you think you might get a three dimensional array of True values?\n",
    "\n",
    "A **matrix** in math is a 2d array.\n",
    "A multidimensional array equivalent in math is a **tensor**\n",
    "\n",
    "**Double Click Here for answer**\n",
    "<!--\n",
    "np.zeros( (2,3,4),dtype=\"bool\")\n",
    "-->"
   ]
  },
  {
   "cell_type": "code",
   "execution_count": 57,
   "metadata": {
    "pycharm": {
     "is_executing": false
    },
    "scrolled": true
   },
   "outputs": [
    {
     "data": {
      "text/plain": [
       "array([[[False, False, False, False],\n",
       "        [False, False, False, False],\n",
       "        [False, False, False, False]],\n",
       "\n",
       "       [[False, False, False, False],\n",
       "        [False, False, False, False],\n",
       "        [False, False, False, False]]])"
      ]
     },
     "execution_count": 57,
     "metadata": {},
     "output_type": "execute_result"
    }
   ],
   "source": [
    "np.zeros((2,3,4), dtype = 'bool')"
   ]
  },
  {
   "cell_type": "markdown",
   "metadata": {},
   "source": [
    "---\n",
    "# Standard NumPy Array Builders\n",
    "\n",
    "### Standard Arrays \n",
    "```\n",
    "np.zeros(  shape,  dtype=int/float/bool )\n",
    "np.ones(  shape,  dtype=int/float/bool )\n",
    "np.arange(  start, uptobutexclude,  step )\n",
    "np.linspace( start, stop, numberofvalues )\n",
    "np.eye(  shape  )\n",
    "np.array(  some python lists  )\n",
    "np.random.normal(  mean, stddev,  numberofvalues )\n",
    "np.random.random(  )\n",
    "```\n",
    "\n",
    "There are other ways to make Numpy arrays.  Try them out below.\n"
   ]
  },
  {
   "cell_type": "markdown",
   "metadata": {},
   "source": [
    "## The arange function\n",
    "\n",
    "What it does:\n",
    "* Build an array starting at some value, and go up to but don't include a last value, by a step that defaults to 1.\n",
    "* The type comes from the type of the parameters.\n",
    "\n",
    "Example:\n",
    "> np.arange(0, 20, 4)\n",
    "\n",
    "#### 12 --> Try it.\n",
    "*Build an array that starts at 0 goes up to 1.0, and goes by 0.05.\n",
    "\n",
    "\n",
    "**Double Click Here for answer**\n",
    "<!--\n",
    "np.arange(0, 1, 0.05)\n",
    "-->\n"
   ]
  },
  {
   "cell_type": "code",
   "execution_count": 69,
   "metadata": {
    "pycharm": {
     "is_executing": false
    },
    "scrolled": true
   },
   "outputs": [
    {
     "data": {
      "text/plain": [
       "array([0.  , 0.05, 0.1 , 0.15, 0.2 , 0.25, 0.3 , 0.35, 0.4 , 0.45, 0.5 ,\n",
       "       0.55, 0.6 , 0.65, 0.7 , 0.75, 0.8 , 0.85, 0.9 , 0.95])"
      ]
     },
     "execution_count": 69,
     "metadata": {},
     "output_type": "execute_result"
    }
   ],
   "source": [
    "#good for building axes on plots\n",
    "\n",
    "np.arange(0, 1.0, 0.05)\n"
   ]
  },
  {
   "cell_type": "markdown",
   "metadata": {},
   "source": [
    "## The linspace function\n",
    "\n",
    "What it does:\n",
    "    * Build an array of a certain number of values evenly spaced out between a start and stop value.\n",
    "    * The start value will be the first value, and the stop value will be the last value.\n",
    "    \n",
    "Example to build 5 values that start at 0 and end at 2\n",
    "> np.linspace( 0, 2, 5)\n",
    "\n",
    "#### 13 --> Try it - build an array of 12 values that go from 0 up to 2*pi.  You can get pi with np.pi\n",
    "\n",
    "**Double Click Here for answer**\n",
    "<!--\n",
    "np.linspace( 0, 2*np.pi, 12)\n",
    "-->\n",
    "\n"
   ]
  },
  {
   "cell_type": "code",
   "execution_count": 66,
   "metadata": {
    "pycharm": {
     "is_executing": false
    }
   },
   "outputs": [
    {
     "data": {
      "text/plain": [
       "array([0.        , 0.57119866, 1.14239733, 1.71359599, 2.28479466,\n",
       "       2.85599332, 3.42719199, 3.99839065, 4.56958931, 5.14078798,\n",
       "       5.71198664, 6.28318531])"
      ]
     },
     "execution_count": 66,
     "metadata": {},
     "output_type": "execute_result"
    }
   ],
   "source": [
    "np.linspace(0,2*np.pi,12)\n"
   ]
  },
  {
   "cell_type": "markdown",
   "metadata": {},
   "source": [
    "## Identity matrix - np.eye()\n",
    "Super important.  Super simple.  Identity matrix is always a 2 by 2 so you just tell it how many rows / columns.\n",
    "\n",
    "#### 14 --> Try it - make a 3x3 identity matrix.\n",
    "\n",
    "**Double Click Here for answer**\n",
    "<!--\n",
    "np.eye(3)\n",
    "-->\n",
    "\n"
   ]
  },
  {
   "cell_type": "code",
   "execution_count": 68,
   "metadata": {
    "pycharm": {
     "is_executing": false
    }
   },
   "outputs": [
    {
     "data": {
      "text/plain": [
       "array([[1, 0, 0],\n",
       "       [0, 1, 0],\n",
       "       [0, 0, 1]])"
      ]
     },
     "execution_count": 68,
     "metadata": {},
     "output_type": "execute_result"
    }
   ],
   "source": [
    "np.eye(3,3, dtype = 'int')"
   ]
  },
  {
   "cell_type": "markdown",
   "metadata": {},
   "source": [
    "## Casting Python list to numpy array\n",
    "\n",
    "You cast, or convert, a python list to numpy array using a cast like other casts in Python:\n",
    "\n",
    "> `np.array( some python list )`\n",
    "\n",
    "#### --> 15 - try it.  You still have `counts` in your iPython session - make it into a numpy array.\n",
    "\n",
    "What happens if you try to make an array out of lists that have uneven dimensionality?\n",
    "\n",
    "What happens if you try to make an array out of a non-homogeneous list?\n",
    "\n",
    "```\n",
    "[ [1,2,3], [4,5] ]\n",
    "\n",
    "[ True, 4, 5.0 ]\n",
    "# This will make something different:\n",
    "[ True, 4, 5.0, \"SIX\" ]\n",
    "\n",
    "```\n",
    "**Double Click Here for answer**\n",
    "<!--\n",
    "np.array(counts)\n",
    "\n",
    "#Numpy does the best it can, but defaults to making an array of \"object\"\n",
    "np.array([ [1,2,3],  4, 5.0, True ] )\n",
    "-->\n"
   ]
  },
  {
   "cell_type": "code",
   "execution_count": 71,
   "metadata": {
    "pycharm": {
     "is_executing": false
    }
   },
   "outputs": [
    {
     "data": {
      "text/plain": [
       "array([0, 1, 2, 3, 4, 5, 6, 7, 8, 9])"
      ]
     },
     "execution_count": 71,
     "metadata": {},
     "output_type": "execute_result"
    }
   ],
   "source": [
    "np.array(counts)\n"
   ]
  },
  {
   "cell_type": "markdown",
   "metadata": {},
   "source": [
    "## Numpy Random\n",
    "\n",
    "The normal distribution is critical for a huge number of applications.  You can create an array of numbers sampled from a huge number of distributions with the NumPy random module:\n",
    "\n",
    "np.random.normal - use normal distribution\t\n",
    "\tnp.random.normal(  mean,  std-deviation,  (shape) )\n",
    "\n",
    "Example:  Normal distribution mean 0, std dev 10, 5 values:\n",
    "```\n",
    "    samples = np.random.normal(0,10, 5)\n",
    "    samples\n",
    "```\n",
    "\n",
    "#### --> 16.  In a cell - with markdown above it, show the IQs of 10 people.\n",
    "\n",
    "IQs have mean 100, and standard deviation 15.\n",
    "\n",
    "BONUS!  Sample 1000 people. How many people have above average IQ?\n",
    "\n",
    "How many people have IQs below 85?  These people are quite mentally challenged, by the way.  And though IQ is a very loose and very crude measure of \"brain power,\" that set of people are going to find it challenging to, for example, understand how congressional districts are drawn.  When that number gets to 75, that's the set of people that are likely going to need assistance getting through most tasks in life.  That's just interesting.\n",
    " \n",
    "Look at all the wonderful things the random module can do!\n",
    "\n",
    "> [Random sampling (numpy.random) — NumPy v1.15 Manual](https://docs.scipy.org/doc/numpy-1.15.0/reference/routines.random.html)\n",
    "\n",
    "**Double Click Here for answer**\n",
    "<!--\n",
    "print(np.random.normal( 100, 15, 10 ))\n",
    "# or how about:\n",
    "print(f\"{%d.1} \" for d in np.random.normal( 100, 15, 10 ))\n",
    "iqlimit = 85\n",
    "count = sum( [1 for x in np.random.normal(100,15,1000) if x <= iqlimit] )\n",
    "print(f\"Of 1000 people, {count} have an IQ of {iqlimit} or less. \")\n",
    "-->\n"
   ]
  },
  {
   "cell_type": "code",
   "execution_count": 16,
   "metadata": {
    "pycharm": {
     "is_executing": false
    }
   },
   "outputs": [
    {
     "name": "stdout",
     "output_type": "stream",
     "text": [
      "[129.60805737  85.95426811 135.19354687 124.13327793 120.9530737\n",
      " 101.58126873  90.22778947  84.85182628 116.38843833 109.42854479]\n",
      "['98.6', '89.5', '90.8', '84.7', '86.6', '128.9', '99.3', '91.2', '75.4', '111.1']\n",
      "\n",
      "\n",
      "Of 1000 people, 153 have an IQ of 85 or less. \n"
     ]
    }
   ],
   "source": []
  },
  {
   "cell_type": "markdown",
   "metadata": {},
   "source": [
    "### The Random Seed\n",
    "Random numbers aren't truly random. They come from a built in \"random number generator.\"  One important property of most testing and analysis is that you need to control what happens.  So if you run a piece of code, it will do **exactly** the same thing the next time you run it.\n",
    "\n",
    "Random number generators use a mathematical function to pull a number from what might as well be a very very long list of numbers that meet certain properties of \"randomness\".  \n",
    "\n",
    "The *seed* tells the generator where to start in that list.  So if you *seed* a random number generator with a fixed value, you'll always get the *same* result. So it's not random at all.  But the result will still have all the properties of randomness other than the fact that it is the same every time.\n",
    "\n",
    "You use   `np.random.seed(somevalue)` to seed NumPy's random generator.\n",
    "\n",
    "You only do this ONCE in your code\n",
    "You only do it in the testing / development of your code.\n",
    "If you want to reset it to being soemwhat random again, you can call seed() with n parameter.\n",
    "\n",
    "#### --> 17  Random seed with 10 and generate 10 normal IQ number.\n",
    "\n",
    "The last one should be 97.38099684 every time.\n",
    "\n",
    "**Double Click Here for answer**\n",
    "<!--\n",
    "###\n",
    "np.random.seed(10)\n",
    "np.random.normal( 100, 15, 10)\n",
    "-->\n",
    "\n",
    "\n",
    "\n",
    "\n"
   ]
  },
  {
   "cell_type": "code",
   "execution_count": 17,
   "metadata": {
    "pycharm": {
     "is_executing": false
    }
   },
   "outputs": [
    {
     "data": {
      "text/plain": [
       "array([119.97379756, 110.72918462,  76.81899562,  99.87424225,\n",
       "       109.32003961,  89.19871659, 103.98267379, 101.62822789,\n",
       "       100.06437146,  97.38099684])"
      ]
     },
     "execution_count": 17,
     "metadata": {},
     "output_type": "execute_result"
    }
   ],
   "source": []
  },
  {
   "cell_type": "markdown",
   "metadata": {},
   "source": [
    "## Random integers\n",
    "\n",
    "Syntax:\n",
    "\n",
    "> `random.randint(  UpToAndIncludingValue,  size=(ArrayDimeionsions)`\n",
    "\n",
    "#### --> 18.  Random int play\n",
    "\n",
    "* Use the `size` named parameter and a tuple to initialize an 2,3 array of random numbers between 0 and 9 using the `random.randint` function.\n",
    "* Assign that to variable x3.\n",
    "* Print it.\n",
    "\n",
    "**Double Click Here for answer**\n",
    "<!--\n",
    "x3 = np.random.randint(10, size=(2,3)) #two dimension\n",
    "print(x3)\n",
    "-->\n"
   ]
  },
  {
   "cell_type": "code",
   "execution_count": 18,
   "metadata": {
    "pycharm": {
     "is_executing": false
    }
   },
   "outputs": [
    {
     "name": "stdout",
     "output_type": "stream",
     "text": [
      "[[1 8 4]\n",
      " [1 3 6]]\n"
     ]
    }
   ],
   "source": []
  },
  {
   "cell_type": "code",
   "execution_count": 19,
   "metadata": {
    "pycharm": {
     "is_executing": false
    }
   },
   "outputs": [
    {
     "name": "stdout",
     "output_type": "stream",
     "text": [
      "x3 ndim: 2\n",
      "x3 shape: (2, 3)\n",
      "x3 size:  6\n"
     ]
    }
   ],
   "source": [
    "# And then show the dimensions of your array.\n",
    "print(\"x3 ndim:\", x3.ndim)\n",
    "print(\"x3 shape:\", x3.shape)\n",
    "print(\"x3 size: \", x3.size)"
   ]
  },
  {
   "cell_type": "markdown",
   "metadata": {},
   "source": []
  },
  {
   "cell_type": "code",
   "execution_count": 19,
   "metadata": {
    "pycharm": {
     "is_executing": false
    }
   },
   "outputs": [],
   "source": []
  }
 ],
 "metadata": {
  "kernelspec": {
   "display_name": "Python 3",
   "language": "python",
   "name": "python3"
  },
  "language_info": {
   "codemirror_mode": {
    "name": "ipython",
    "version": 3
   },
   "file_extension": ".py",
   "mimetype": "text/x-python",
   "name": "python",
   "nbconvert_exporter": "python",
   "pygments_lexer": "ipython3",
   "version": "3.7.3"
  },
  "pycharm": {
   "stem_cell": {
    "cell_type": "raw",
    "metadata": {
     "collapsed": false
    },
    "source": []
   }
  }
 },
 "nbformat": 4,
 "nbformat_minor": 2
}
